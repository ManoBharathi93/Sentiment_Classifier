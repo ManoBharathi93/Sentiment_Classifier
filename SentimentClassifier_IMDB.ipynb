{
 "cells": [
  {
   "cell_type": "markdown",
   "id": "175a7110-fe52-4f41-b46c-4a49c0ff9239",
   "metadata": {},
   "source": [
    "### Import statements"
   ]
  },
  {
   "cell_type": "code",
   "execution_count": 2,
   "id": "fa7b496a-7792-4d0a-8115-b552b8bc5518",
   "metadata": {},
   "outputs": [],
   "source": [
    "import os\n",
    "import sys\n",
    "import pandas as pd\n",
    "import matplotlib.pyplot as plt\n",
    "import seaborn as sns\n",
    "import warnings\n",
    "import torch\n",
    "import torch.nn as nn\n",
    "warnings.filterwarnings(\"ignore\")"
   ]
  },
  {
   "cell_type": "markdown",
   "id": "b1f60ee3-c62f-4e3e-8735-5cc8557bfdc6",
   "metadata": {},
   "source": [
    "### NOTE:\n",
    " If you are working in python virtual environment and You need to install some missed packages through jupyter notebook use below command to install by replacing it name of required package."
   ]
  },
  {
   "cell_type": "code",
   "execution_count": 2,
   "id": "f129dd48-abe2-4835-bf2d-7adfc25513f8",
   "metadata": {},
   "outputs": [
    {
     "name": "stdout",
     "output_type": "stream",
     "text": [
      "Requirement already satisfied: tqdm in ./nlpvenv/lib/python3.10/site-packages (4.66.2)\n"
     ]
    }
   ],
   "source": [
    "# !{sys.executable} -m pip install \"Install module\"\n",
    "!{sys.executable} -m pip install tqdm"
   ]
  },
  {
   "attachments": {},
   "cell_type": "markdown",
   "id": "1425ec7b-b4aa-4cca-b919-0688c460eed9",
   "metadata": {},
   "source": [
    "# 1. Data Ingestion:\n",
    "Dataset: https://www.kaggle.com/datasets/lakshmi25npathi/imdb-dataset-of-50k-movie-reviews\n",
    "We have two options for getting the data\n",
    "### 1.1. Downloading dataset directly from kaggle through jupyter notebook\n",
    "            1. opendatasets: A Python library for downloading datasets from Kaggle, Google Drive, and other online sources.\n",
    "                  cons:Now it's not actively maintained. (https://github.com/JovianHQ/opendatasets)\n",
    "            \n",
    "            2. Kaggle API\n",
    "                 cons: The download process might be limited by the capabilities of the Kaggle API within the notebook environment.\n",
    "### 1.2. Downloading dataset through browser\n",
    "            1.  After login into kaggle account, go to the above dataset link.click the download button.             \n",
    "            2. Copy and paste the downloaded dataset into project directory"
   ]
  },
  {
   "cell_type": "code",
   "execution_count": 3,
   "id": "d837fee3-fe0a-440f-9acf-4277d2bd291c",
   "metadata": {},
   "outputs": [],
   "source": [
    "dataset_path = \"IMDB Dataset.csv\"\n",
    "\n",
    "if not os.path.exists(dataset_path):\n",
    "    print(\"Dataset not exists, Downloading from kaggale ...\")\n",
    "    try:\n",
    "        try:\n",
    "            import opendatasets as od\n",
    "        except ImportError:\n",
    "            !{sys.executable} -m pip install opendatasets \n",
    "        \n",
    "        import opendatasets as od\n",
    "        dataset = od.download(\"https://www.kaggle.com/datasets/lakshmi25npathi/imdb-dataset-of-50k-movie-reviews\")\n",
    "        print(\"Dataset downloaded successfully!\")\n",
    "        df  = pd.read_csv('imdb-dataset-of-50k-movie-reviews/IMDB Dataset.csv')\n",
    "    except Exception as e:\n",
    "        print(f\"Error downloading dataset: {e}\")\n",
    "else:\n",
    "    df = pd.read_csv(dataset_path)"
   ]
  },
  {
   "cell_type": "markdown",
   "id": "42ba9597-41f9-4434-bd3d-6df626c690fb",
   "metadata": {},
   "source": [
    "# 2. Exploratery data analysis"
   ]
  },
  {
   "cell_type": "markdown",
   "id": "7bcaad2e-cfd0-4ad7-9a7e-b89abe73d3a1",
   "metadata": {},
   "source": [
    "### 2.1. Exploring the  dataset and derive important information from it"
   ]
  },
  {
   "cell_type": "markdown",
   "id": "bdfbc491-39c6-454a-89b9-63e98ee2cfba",
   "metadata": {},
   "source": [
    "***What type of data present in the dataset ?***"
   ]
  },
  {
   "cell_type": "code",
   "execution_count": 4,
   "id": "59b1a940-73df-4c07-ae7b-e54b73d64253",
   "metadata": {},
   "outputs": [
    {
     "data": {
      "text/plain": [
       "review       object\n",
       "sentiment    object\n",
       "dtype: object"
      ]
     },
     "execution_count": 4,
     "metadata": {},
     "output_type": "execute_result"
    }
   ],
   "source": [
    "df.dtypes"
   ]
  },
  {
   "cell_type": "markdown",
   "id": "278081ab-6957-4031-b924-9a6e0483d062",
   "metadata": {},
   "source": [
    "Both are object datatype and needs some pre-processing."
   ]
  },
  {
   "cell_type": "markdown",
   "id": "33db087a-6a3e-4a0d-9302-22c954e6e9d9",
   "metadata": {},
   "source": [
    "***How the dataset looks like, what are the features and target variables present in the dataset ?***"
   ]
  },
  {
   "cell_type": "code",
   "execution_count": 5,
   "id": "c46e376c-d70e-4376-829b-01480f6894aa",
   "metadata": {},
   "outputs": [
    {
     "data": {
      "text/html": [
       "<div>\n",
       "<style scoped>\n",
       "    .dataframe tbody tr th:only-of-type {\n",
       "        vertical-align: middle;\n",
       "    }\n",
       "\n",
       "    .dataframe tbody tr th {\n",
       "        vertical-align: top;\n",
       "    }\n",
       "\n",
       "    .dataframe thead th {\n",
       "        text-align: right;\n",
       "    }\n",
       "</style>\n",
       "<table border=\"1\" class=\"dataframe\">\n",
       "  <thead>\n",
       "    <tr style=\"text-align: right;\">\n",
       "      <th></th>\n",
       "      <th>review</th>\n",
       "      <th>sentiment</th>\n",
       "    </tr>\n",
       "  </thead>\n",
       "  <tbody>\n",
       "    <tr>\n",
       "      <th>0</th>\n",
       "      <td>One of the other reviewers has mentioned that ...</td>\n",
       "      <td>positive</td>\n",
       "    </tr>\n",
       "    <tr>\n",
       "      <th>1</th>\n",
       "      <td>A wonderful little production. &lt;br /&gt;&lt;br /&gt;The...</td>\n",
       "      <td>positive</td>\n",
       "    </tr>\n",
       "    <tr>\n",
       "      <th>2</th>\n",
       "      <td>I thought this was a wonderful way to spend ti...</td>\n",
       "      <td>positive</td>\n",
       "    </tr>\n",
       "    <tr>\n",
       "      <th>3</th>\n",
       "      <td>Basically there's a family where a little boy ...</td>\n",
       "      <td>negative</td>\n",
       "    </tr>\n",
       "    <tr>\n",
       "      <th>4</th>\n",
       "      <td>Petter Mattei's \"Love in the Time of Money\" is...</td>\n",
       "      <td>positive</td>\n",
       "    </tr>\n",
       "  </tbody>\n",
       "</table>\n",
       "</div>"
      ],
      "text/plain": [
       "                                              review sentiment\n",
       "0  One of the other reviewers has mentioned that ...  positive\n",
       "1  A wonderful little production. <br /><br />The...  positive\n",
       "2  I thought this was a wonderful way to spend ti...  positive\n",
       "3  Basically there's a family where a little boy ...  negative\n",
       "4  Petter Mattei's \"Love in the Time of Money\" is...  positive"
      ]
     },
     "execution_count": 5,
     "metadata": {},
     "output_type": "execute_result"
    }
   ],
   "source": [
    "df.head()"
   ]
  },
  {
   "cell_type": "markdown",
   "id": "fb29907c-13f2-4140-87ed-0aa45201a959",
   "metadata": {},
   "source": [
    "**Explanation**: We can conclude that our independent variable or feature (X) is `review` and  label or target variable is `sentiment` and the given dataset is labelled so it's Supervised Sentiment Analysis problem.\n",
    "\n",
    "**Things I noticed** : In review 2, there is an HTML tag for break line. <br/><br> "
   ]
  },
  {
   "cell_type": "markdown",
   "id": "34d2f978-df9b-4480-ae60-dd9a6fe7a6d3",
   "metadata": {},
   "source": [
    "***Whether this dataset contains any null values ?***"
   ]
  },
  {
   "cell_type": "code",
   "execution_count": 6,
   "id": "7c03e958-6e72-4164-b2fd-e5256b7aafda",
   "metadata": {},
   "outputs": [
    {
     "data": {
      "text/plain": [
       "review       0\n",
       "sentiment    0\n",
       "dtype: int64"
      ]
     },
     "execution_count": 6,
     "metadata": {},
     "output_type": "execute_result"
    }
   ],
   "source": [
    "df.isnull().sum()"
   ]
  },
  {
   "cell_type": "markdown",
   "id": "dbdcef44-2815-4f3a-bded-63d9740b0160",
   "metadata": {},
   "source": [
    "**Explanation**: There is no null values so we don't want to perform dropping null values or imputation on the dataset."
   ]
  },
  {
   "cell_type": "markdown",
   "id": "1591cba9-23c4-431d-b7f2-951c654a470d",
   "metadata": {},
   "source": [
    "***How will dataset's distribution looks in statiscal way ?***"
   ]
  },
  {
   "cell_type": "code",
   "execution_count": 7,
   "id": "246d23b5-6b20-4354-8d89-cfb589f9b347",
   "metadata": {},
   "outputs": [
    {
     "data": {
      "text/html": [
       "<div>\n",
       "<style scoped>\n",
       "    .dataframe tbody tr th:only-of-type {\n",
       "        vertical-align: middle;\n",
       "    }\n",
       "\n",
       "    .dataframe tbody tr th {\n",
       "        vertical-align: top;\n",
       "    }\n",
       "\n",
       "    .dataframe thead th {\n",
       "        text-align: right;\n",
       "    }\n",
       "</style>\n",
       "<table border=\"1\" class=\"dataframe\">\n",
       "  <thead>\n",
       "    <tr style=\"text-align: right;\">\n",
       "      <th></th>\n",
       "      <th>review</th>\n",
       "      <th>sentiment</th>\n",
       "    </tr>\n",
       "  </thead>\n",
       "  <tbody>\n",
       "    <tr>\n",
       "      <th>count</th>\n",
       "      <td>50000</td>\n",
       "      <td>50000</td>\n",
       "    </tr>\n",
       "    <tr>\n",
       "      <th>unique</th>\n",
       "      <td>49582</td>\n",
       "      <td>2</td>\n",
       "    </tr>\n",
       "    <tr>\n",
       "      <th>top</th>\n",
       "      <td>Loved today's show!!! It was a variety and not...</td>\n",
       "      <td>positive</td>\n",
       "    </tr>\n",
       "    <tr>\n",
       "      <th>freq</th>\n",
       "      <td>5</td>\n",
       "      <td>25000</td>\n",
       "    </tr>\n",
       "  </tbody>\n",
       "</table>\n",
       "</div>"
      ],
      "text/plain": [
       "                                                   review sentiment\n",
       "count                                               50000     50000\n",
       "unique                                              49582         2\n",
       "top     Loved today's show!!! It was a variety and not...  positive\n",
       "freq                                                    5     25000"
      ]
     },
     "execution_count": 7,
     "metadata": {},
     "output_type": "execute_result"
    }
   ],
   "source": [
    "df.describe()"
   ]
  },
  {
   "cell_type": "markdown",
   "id": "5453eacf-7ac8-496b-ac0c-6d0fe2edf985",
   "metadata": {},
   "source": [
    "**Explanation**:\n",
    "1. Count - Total number of entries = 50000 reviews and 50000 sentiments\n",
    "2. unique - Total number of unqiue entries = 49582 reviews and 2 sentiments (positive/negative)\n",
    "1. top - The top is the most common value.  =  \"Loved today's show!!! It was a variety and..\"\n",
    "2. freq - The freq is the most common value’s frequency. = 5 times its appears in csv file"
   ]
  },
  {
   "cell_type": "markdown",
   "id": "c9ae8181-5d3c-494c-ac2b-4dec847b0410",
   "metadata": {},
   "source": [
    "***Whether the dataset has class Imbalance?***"
   ]
  },
  {
   "cell_type": "code",
   "execution_count": 8,
   "id": "94d968b9-49ec-4e7b-a38c-29939d20fc96",
   "metadata": {},
   "outputs": [
    {
     "data": {
      "text/plain": [
       "sentiment\n",
       "positive    25000\n",
       "negative    25000\n",
       "Name: count, dtype: int64"
      ]
     },
     "execution_count": 8,
     "metadata": {},
     "output_type": "execute_result"
    }
   ],
   "source": [
    "df['sentiment'].value_counts()"
   ]
  },
  {
   "cell_type": "markdown",
   "id": "e8783676-5b70-46af-b88b-9f0c19695174",
   "metadata": {},
   "source": [
    "**Explanation**: Since our balanced dataset, we can focus on exploring the characteristics of the reviews and sentiment labels to gain insights for your sentiment analysis task"
   ]
  },
  {
   "cell_type": "markdown",
   "id": "b3e6d514-7683-4d8f-a54c-f08cdc8e329e",
   "metadata": {},
   "source": [
    "***How was the distribution of review lengths ?***\n",
    "<br>\n",
    "***Why do I need to know about distribution of review length ?***"
   ]
  },
  {
   "cell_type": "code",
   "execution_count": 9,
   "id": "9e4d128d-c446-45a6-b4aa-aab20446e680",
   "metadata": {},
   "outputs": [
    {
     "data": {
      "image/png": "[encoded data removed]",
      "text/plain": [
       "<Figure size 640x480 with 1 Axes>"
      ]
     },
     "metadata": {},
     "output_type": "display_data"
    }
   ],
   "source": [
    "review_lengths = df['review'].str.len()\n",
    "review_lengths.plot.hist(bins=20)\n",
    "plt.xlabel(\"Review Length (Characters)\")\n",
    "plt.ylabel(\"Number of Reviews\")\n",
    "plt.title(\"Distribution of Review Lengths\")\n",
    "plt.show()"
   ]
  },
  {
   "cell_type": "markdown",
   "id": "adf98d93-bee1-4b19-aef4-718449c1936a",
   "metadata": {},
   "source": [
    "***Explanation***: \n",
    " 1. To understand user Behavior: \n",
    "       A peak at a lower length might suggest users tend to summarize key points, while a peak at a higher length could indicate more elaborate reviews.\n",
    " 2. Potential Biases:\n",
    " Short reviews might lack nuance, while very long reviews could be more rambling and difficult for sentiment models to interpret accurately."
   ]
  },
  {
   "cell_type": "code",
   "execution_count": 10,
   "id": "f6b0f402-e3e9-471b-8072-e089307c4a65",
   "metadata": {},
   "outputs": [
    {
     "name": "stdout",
     "output_type": "stream",
     "text": [
      "Positive Review Words:0        307\n",
      "1        162\n",
      "2        166\n",
      "4        230\n",
      "5        119\n",
      "        ... \n",
      "49983    133\n",
      "49985    216\n",
      "49989    173\n",
      "49992    170\n",
      "49995    194\n",
      "Name: review, Length: 25000, dtype: int64\n",
      "Negative Review Words:3        138\n",
      "7        174\n",
      "8        130\n",
      "10        96\n",
      "11       180\n",
      "        ... \n",
      "49994    134\n",
      "49996    112\n",
      "49997    230\n",
      "49998    212\n",
      "49999    129\n",
      "Name: review, Length: 25000, dtype: int64\n"
     ]
    },
    {
     "data": {
      "image/png": "[encoded data removed]",
      "text/plain": [
       "<Figure size 1500x500 with 2 Axes>"
      ]
     },
     "metadata": {},
     "output_type": "display_data"
    }
   ],
   "source": [
    "def calculate_length(data): ## length calculation function\n",
    "    return len(data)\n",
    "\n",
    "def plot_count(count_ones,count_zeros,title_1,title_2,subtitle):\n",
    "    fig,(ax1,ax2)=plt.subplots(1,2,figsize=(15,5))\n",
    "    sns.histplot(count_zeros,ax=ax1,color='Blue')\n",
    "    ax1.set_title(title_1)\n",
    "    sns.histplot(count_ones,ax=ax2,color='Red')\n",
    "    ax2.set_title(title_2)\n",
    "    fig.suptitle(subtitle)\n",
    "    plt.show()    \n",
    "\n",
    "\n",
    "good_review=df[df['sentiment']=='positive']\n",
    "bad_review=df[df['sentiment']=='negative']\n",
    "\n",
    "no_good_words=good_review['review'].str.split().apply(lambda z:calculate_length(z))\n",
    "no_bad_words=bad_review['review'].str.split().apply(lambda z:calculate_length(z))\n",
    "print(\"Positive Review Words:\" + str(no_good_words))\n",
    "print(\"Negative Review Words:\" + str(no_bad_words))\n",
    "plot_count(no_good_words,no_bad_words,\"Positive Review\",\"Negative Review\",\"Reviews Word Analysis\")"
   ]
  },
  {
   "cell_type": "markdown",
   "id": "10eeec20-b7d8-4627-8d6f-95db0878683a",
   "metadata": {},
   "source": [
    "**Interpretation** : Review in range of 100 to 200 has maximum word count in both positive and negative review. This tends to have balance of positive and negative reviews word count in the dataset.\n"
   ]
  },
  {
   "cell_type": "code",
   "execution_count": 11,
   "id": "619567e3-2a04-4171-8716-52f7f71453d8",
   "metadata": {},
   "outputs": [
    {
     "data": {
      "image/png": "[encoded data removed]",
      "text/plain": [
       "<Figure size 1500x500 with 2 Axes>"
      ]
     },
     "metadata": {},
     "output_type": "display_data"
    }
   ],
   "source": [
    "import string\n",
    "count_good_punctuations=good_review['review'].apply(lambda z: len([c for c in str(z) if c in string.punctuation]))\n",
    "count_bad_punctuations=bad_review['review'].apply(lambda z:len([c for c in str(z) if c in string.punctuation]))\n",
    "plot_count(count_good_punctuations,count_bad_punctuations,\"Positive Review Punctuations\",\"Negative Review Punctuations\",\"Reviews Word Punctuation Analysis\")"
   ]
  },
  {
   "cell_type": "code",
   "execution_count": 12,
   "id": "f541e0e3-c7e0-42a4-830b-112fdcd8d98b",
   "metadata": {},
   "outputs": [
    {
     "data": {
      "image/png": "[encoded data removed]",
      "text/plain": [
       "<Figure size 1500x500 with 2 Axes>"
      ]
     },
     "metadata": {},
     "output_type": "display_data"
    }
   ],
   "source": [
    "import nltk\n",
    "from nltk.corpus import stopwords\n",
    "import numpy as np\n",
    "stop_words = stopwords.words('english')\n",
    "\n",
    "count_good_stops=good_review['review'].apply(lambda z : np.mean([len(z) for w in str(z).split()]))\n",
    "count_bad_stops=bad_review['review'].apply(lambda z : np.mean([len(z) for w in str(z).split()]))\n",
    "plot_count(count_good_stops,count_bad_stops,\"Positive Reviews Stopwords\",\"Negative Reviews Stopwords\",\"Reviews Stopwords Analysis\")"
   ]
  },
  {
   "cell_type": "code",
   "execution_count": 13,
   "id": "6f6a0e9b-d88a-4e3c-a546-88466f844120",
   "metadata": {},
   "outputs": [
    {
     "data": {
      "image/png": "[encoded data removed]",
      "text/plain": [
       "<Figure size 1500x500 with 2 Axes>"
      ]
     },
     "metadata": {},
     "output_type": "display_data"
    }
   ],
   "source": [
    "count_good_urls=good_review['review'].apply(lambda x: len([w for w in str(x).lower().split() if 'http' in w or 'https' in w]))\n",
    "count_bad_urls=bad_review['review'].apply(lambda x: len([w for w in str(x).lower().split() if 'http' in w or 'https' in w]))\n",
    "\n",
    "plot_count(count_good_stops,count_bad_stops,\"Positive Reviews URLs\",\"Negative Reviews URLs\",\"Reviews URLs Analysis\")"
   ]
  },
  {
   "cell_type": "markdown",
   "id": "bfc9c5b9-2e82-4025-befa-ef4cc3480bcf",
   "metadata": {},
   "source": [
    "***Explanation***: \n",
    "Punctuation, URLs and stopwords have equal distribution in both positive and negative review."
   ]
  },
  {
   "cell_type": "code",
   "execution_count": 14,
   "id": "5feeb29d-d378-48cb-a943-27271cf9c61f",
   "metadata": {},
   "outputs": [
    {
     "data": {
      "text/plain": [
       "<Axes: >"
      ]
     },
     "execution_count": 14,
     "metadata": {},
     "output_type": "execute_result"
    },
    {
     "data": {
      "image/png": "[encoded data removed]",
      "text/plain": [
       "<Figure size 640x480 with 1 Axes>"
      ]
     },
     "metadata": {},
     "output_type": "display_data"
    }
   ],
   "source": [
    "from collections import Counter\n",
    "\n",
    "stops=set(stopwords.words('english'))\n",
    "def create_corpus(word):\n",
    "    corpus=[]\n",
    "\n",
    "    for x in df[df['sentiment']==word]['review'].str.split():\n",
    "        for i in x:\n",
    "            corpus.append(i)\n",
    "    return corpus\n",
    "\n",
    "corpus=create_corpus('positive')\n",
    "counter=Counter(corpus)\n",
    "most=counter.most_common()\n",
    "x=[]\n",
    "y=[]\n",
    "for word,count in most[:100]:\n",
    "    if (word not in stops) :\n",
    "        x.append(word)\n",
    "        y.append(count)\n",
    "sns.barplot(x=y,y=x)"
   ]
  },
  {
   "cell_type": "markdown",
   "id": "9d72fd09-3162-4145-965b-f61ae764b8e4",
   "metadata": {},
   "source": [
    "***Whether this dataset contains emoji or not ?***"
   ]
  },
  {
   "cell_type": "code",
   "execution_count": 15,
   "id": "0bac5158-8c73-4b63-b330-a80239f8364e",
   "metadata": {},
   "outputs": [
    {
     "data": {
      "text/plain": [
       "0        True\n",
       "1        True\n",
       "2        True\n",
       "3        True\n",
       "4        True\n",
       "         ... \n",
       "49995    True\n",
       "49996    True\n",
       "49997    True\n",
       "49998    True\n",
       "49999    True\n",
       "Name: review, Length: 50000, dtype: bool"
      ]
     },
     "execution_count": 15,
     "metadata": {},
     "output_type": "execute_result"
    }
   ],
   "source": [
    "# Install the emoji library if you don't have it: !{sys.executable} -m pip install emoji\n",
    "import emoji\n",
    "\n",
    "def has_emoji(text):\n",
    "  return emoji.demojize(text) != text  # Demojize removes emoji formatting, indicating emoji presence\n",
    "\n",
    "has_emoji(df['review'])"
   ]
  },
  {
   "cell_type": "markdown",
   "id": "86328ea0-ba59-49da-9f27-d38593eb1075",
   "metadata": {},
   "source": [
    "***Inference***:\n",
    "The dataset contains\n",
    "   1. Equal number of semantics for reviews of both polarity.\n",
    "   2. Unnecessary words and html syntax\n",
    "   3. Punctuations/stopwords are present in a equal distribution.\n",
    "   4. Emoji"
   ]
  },
  {
   "cell_type": "markdown",
   "id": "9d600156-d9de-487a-bf75-c941d7e31183",
   "metadata": {},
   "source": [
    "***Whether my dataset contains abbreivated/chat words?***"
   ]
  },
  {
   "cell_type": "code",
   "execution_count": 16,
   "id": "9767760b-fba6-46e1-ad0d-ee062a4f1c1d",
   "metadata": {},
   "outputs": [
    {
     "name": "stdout",
     "output_type": "stream",
     "text": [
      "Number of chat word matches: 180\n",
      "Number of abbreviation matches: 2468\n"
     ]
    }
   ],
   "source": [
    "import re\n",
    "\n",
    "chat_regex = r\"\\b(gr8|lol|omg|brb|btw)\\b\"  # common chat words to check whether it's present or not.\n",
    "abbreviation_regex = r\"\\b([A-Z][\\.]){2,}\"  # Pattern for abbreviations with uppercase letters and periods\n",
    "\n",
    "num_chat_matches = 0\n",
    "num_abbreviation_matches = 0\n",
    "for review in df['review']:\n",
    "  num_chat_matches += len(re.findall(chat_regex, review))\n",
    "  num_abbreviation_matches += len(re.findall(abbreviation_regex, review))\n",
    "\n",
    "print(f\"Number of chat word matches: {num_chat_matches}\")\n",
    "print(f\"Number of abbreviation matches: {num_abbreviation_matches}\")"
   ]
  },
  {
   "cell_type": "markdown",
   "id": "a0c70e15-e15f-4d71-9db5-316b2f12674b",
   "metadata": {},
   "source": [
    "### 2.2. Data Preprocessing\n",
    "\n",
    "***Things we have noticed on data analysis are html syntax, URLs, Stopwords Punctuations, emojis and chat words so we got to know what we need to clean.***"
   ]
  },
  {
   "cell_type": "code",
   "execution_count": 17,
   "id": "bfc2d2c2-191b-42b5-985b-2cdcdf7c0dc6",
   "metadata": {},
   "outputs": [],
   "source": [
    "import re\n",
    "df['review'] = df['review'].str.lower() # Upper to lowercase.\n",
    "def remove_punctuations(data):\n",
    "    \"\"\"\n",
    "    Removes punctuations\n",
    "    \"\"\"\n",
    "    punct_tag=re.compile(r'[^\\w\\s]') # ^- negate - (\\w  alphanumeric, \\s  whitespace)\n",
    "    data=punct_tag.sub(r'',data) #substiution operation.\n",
    "    return data\n",
    "\n",
    "\n",
    "def remove_html(data):\n",
    "    \"\"\"\n",
    "    Removes HTML syntaxes\n",
    "    \"\"\"\n",
    "    html_tag=re.compile(r'<.*?>')\n",
    "    data=html_tag.sub(r'',data)\n",
    "    return data\n",
    "\n",
    "\n",
    "def remove_url(data):\n",
    "    \"\"\"\n",
    "    Removes URL data\n",
    "    \"\"\"\n",
    "    url_clean= re.compile(r\"https://\\S+|www\\.\\S+\")\n",
    "    data=url_clean.sub(r'',data)\n",
    "    return data\n",
    "\n",
    "def remove_emoji(data):\n",
    "    \"\"\"\n",
    "    Removes Emojis\n",
    "    \"\"\"\n",
    "    emoji_clean= re.compile(\"[\"\n",
    "                           u\"\\U0001F600-\\U0001F64F\"  # emoticons\n",
    "                           u\"\\U0001F300-\\U0001F5FF\"  # symbols & pictographs\n",
    "                           u\"\\U0001F680-\\U0001F6FF\"  # transport & map symbols\n",
    "                           u\"\\U0001F1E0-\\U0001F1FF\"  # flags (iOS)\n",
    "                           u\"\\U00002702-\\U000027B0\"\n",
    "                           u\"\\U000024C2-\\U0001F251\"\n",
    "                           \"]+\", flags=re.UNICODE)\n",
    "    data=emoji_clean.sub(r'',data)\n",
    "    return data\n",
    "\n",
    "df['review']=df['review'].apply(lambda z: remove_punctuations(z))\n",
    "df['review']=df['review'].apply(lambda z: remove_html(z))\n",
    "df['review']=df['review'].apply(lambda z: remove_url(z))\n",
    "df['review']=df['review'].apply(lambda z: remove_emoji(z))"
   ]
  },
  {
   "cell_type": "code",
   "execution_count": 18,
   "id": "a9183a09-181c-4104-820c-e3d078262cb8",
   "metadata": {},
   "outputs": [
    {
     "data": {
      "text/html": [
       "<div>\n",
       "<style scoped>\n",
       "    .dataframe tbody tr th:only-of-type {\n",
       "        vertical-align: middle;\n",
       "    }\n",
       "\n",
       "    .dataframe tbody tr th {\n",
       "        vertical-align: top;\n",
       "    }\n",
       "\n",
       "    .dataframe thead th {\n",
       "        text-align: right;\n",
       "    }\n",
       "</style>\n",
       "<table border=\"1\" class=\"dataframe\">\n",
       "  <thead>\n",
       "    <tr style=\"text-align: right;\">\n",
       "      <th></th>\n",
       "      <th>review</th>\n",
       "      <th>sentiment</th>\n",
       "    </tr>\n",
       "  </thead>\n",
       "  <tbody>\n",
       "    <tr>\n",
       "      <th>0</th>\n",
       "      <td>one of the other reviewers has mentioned that ...</td>\n",
       "      <td>positive</td>\n",
       "    </tr>\n",
       "    <tr>\n",
       "      <th>1</th>\n",
       "      <td>a wonderful little production br br the filmin...</td>\n",
       "      <td>positive</td>\n",
       "    </tr>\n",
       "    <tr>\n",
       "      <th>2</th>\n",
       "      <td>i thought this was a wonderful way to spend Te...</td>\n",
       "      <td>positive</td>\n",
       "    </tr>\n",
       "    <tr>\n",
       "      <th>3</th>\n",
       "      <td>basically theres a family where a little boy j...</td>\n",
       "      <td>negative</td>\n",
       "    </tr>\n",
       "    <tr>\n",
       "      <th>4</th>\n",
       "      <td>petter matteis love in the Tears in my eyes of...</td>\n",
       "      <td>positive</td>\n",
       "    </tr>\n",
       "  </tbody>\n",
       "</table>\n",
       "</div>"
      ],
      "text/plain": [
       "                                              review sentiment\n",
       "0  one of the other reviewers has mentioned that ...  positive\n",
       "1  a wonderful little production br br the filmin...  positive\n",
       "2  i thought this was a wonderful way to spend Te...  positive\n",
       "3  basically theres a family where a little boy j...  negative\n",
       "4  petter matteis love in the Tears in my eyes of...  positive"
      ]
     },
     "execution_count": 18,
     "metadata": {},
     "output_type": "execute_result"
    }
   ],
   "source": [
    "# https://github.com/rishabhverma17/sms_slang_translator/blob/master/slang.txt - OMG is not present in original but I have added here.\n",
    "chat_words = {\n",
    "    \"AFAIK\": \"As Far As I Know\",\n",
    "    \"AFK\": \"Away From Keyboard\",\n",
    "    \"ASAP\": \"As Soon As Possible\",\n",
    "    \"ATK\": \"At The Keyboard\",\n",
    "    \"ATM\": \"At The Moment\",\n",
    "    \"A3\": \"Anytime, Anywhere, Anyplace\",\n",
    "    \"BAK\": \"Back At Keyboard\",\n",
    "    \"BBL\": \"Be Back Later\",\n",
    "    \"BBS\": \"Be Back Soon\",\n",
    "    \"BFN\": \"Bye For Now\",\n",
    "    \"B4N\": \"Bye For Now\",\n",
    "    \"BRB\": \"Be Right Back\",\n",
    "    \"BRT\": \"Be Right There\",\n",
    "    \"BTW\": \"By The Way\",\n",
    "    \"B4\": \"Before\",\n",
    "    \"B4N\": \"Bye For Now\",\n",
    "    \"CU\": \"See You\",\n",
    "    \"CUL8R\": \"See You Later\",\n",
    "    \"CYA\": \"See You\",\n",
    "    \"FAQ\": \"Frequently Asked Questions\",\n",
    "    \"FC\": \"Fingers Crossed\",\n",
    "    \"FWIW\": \"For What It's Worth\",\n",
    "    \"FYI\": \"For Your Information\",\n",
    "    \"GAL\": \"Get A Life\",\n",
    "    \"GG\": \"Good Game\",\n",
    "    \"GN\": \"Good Night\",\n",
    "    \"GMTA\": \"Great Minds Think Alike\",\n",
    "    \"GR8\": \"Great!\",\n",
    "    \"G9\": \"Genius\",\n",
    "    \"IC\": \"I See\",\n",
    "    \"ICQ\": \"I Seek you (also a chat program)\",\n",
    "    \"ILU\": \"ILU: I Love You\",\n",
    "    \"IMHO\": \"In My Honest/Humble Opinion\",\n",
    "    \"IMO\": \"In My Opinion\",\n",
    "    \"IOW\": \"In Other Words\",\n",
    "    \"IRL\": \"In Real Life\",\n",
    "    \"KISS\": \"Keep It Simple, Stupid\",\n",
    "    \"LDR\": \"Long Distance Relationship\",\n",
    "    \"LMAO\": \"Laugh My A.. Off\",\n",
    "    \"LOL\": \"Laughing Out Loud\",\n",
    "    \"LTNS\": \"Long Time No See\",\n",
    "    \"L8R\": \"Later\",\n",
    "    \"MTE\": \"My Thoughts Exactly\",\n",
    "    \"M8\": \"Mate\",\n",
    "    \"NRN\": \"No Reply Necessary\",\n",
    "    \"OIC\": \"Oh I See\",\n",
    "    \"PITA\": \"Pain In The A..\",\n",
    "    \"PRT\": \"Party\",\n",
    "    \"PRW\": \"Parents Are Watching\",\n",
    "    \"QPSA?\": \"Que Pasa?\",\n",
    "    \"ROFL\": \"Rolling On The Floor Laughing\",\n",
    "    \"ROFLOL\": \"Rolling On The Floor Laughing Out Loud\",\n",
    "    \"ROTFLMAO\": \"Rolling On The Floor Laughing My A.. Off\",\n",
    "    \"SK8\": \"Skate\",\n",
    "    \"STATS\": \"Your sex and age\",\n",
    "    \"ASL\": \"Age, Sex, Location\",\n",
    "    \"THX\": \"Thank You\",\n",
    "    \"TTFN\": \"Ta-Ta For Now!\",\n",
    "    \"TTYL\": \"Talk To You Later\",\n",
    "    \"U\": \"You\",\n",
    "    \"U2\": \"You Too\",\n",
    "    \"U4E\": \"Yours For Ever\",\n",
    "    \"WB\": \"Welcome Back\",\n",
    "    \"WTF\": \"What The F...\",\n",
    "    \"WTG\": \"Way To Go!\",\n",
    "    \"WUF\": \"Where Are You From?\",\n",
    "    \"W8\": \"Wait...\",\n",
    "    \"7K\": \"Sick:-D Laugher\",\n",
    "    \"TFW\": \"That feeling when\",\n",
    "    \"MFW\": \"My face when\",\n",
    "    \"MRW\": \"My reaction when\",\n",
    "    \"IFYP\": \"I feel your pain\",\n",
    "    \"TNTL\": \"Trying not to laugh\",\n",
    "    \"JK\": \"Just kidding\",\n",
    "    \"IDC\": \"I don't care\",\n",
    "    \"ILY\": \"I love you\",\n",
    "    \"IMU\": \"I miss you\",\n",
    "    \"ADIH\": \"Another day in hell\",\n",
    "    \"ZZZ\": \"Sleeping, bored, tired\",\n",
    "    \"WYWH\": \"Wish you were here\",\n",
    "    \"TIME\": \"Tears in my eyes\",\n",
    "    \"BAE\": \"Before anyone else\",\n",
    "    \"FIMH\": \"Forever in my heart\",\n",
    "    \"BSAAW\": \"Big smile and a wink\",\n",
    "    \"BWL\": \"Bursting with laughter\",\n",
    "    \"BFF\": \"Best friends forever\",\n",
    "    \"CSL\": \"Can't stop laughing\",\n",
    "    \"OMG\": \"oh my god\"\n",
    "}\n",
    "\n",
    "def chat_conversation(text):\n",
    "    \"\"\"\n",
    "    Converting chat to conversation\n",
    "    \"\"\"\n",
    "    new_text = []\n",
    "    for i in text.split():\n",
    "        if i.upper() in chat_words:\n",
    "            new_text.append(chat_words[i.upper()])\n",
    "        else:\n",
    "            new_text.append(i)\n",
    "    return \" \".join(new_text)\n",
    "\n",
    "# Calling Function \n",
    "df['review'] = df['review'].apply(chat_conversation)\n",
    "\n",
    "# Head\n",
    "df.head()"
   ]
  },
  {
   "cell_type": "markdown",
   "id": "b753d106-6180-4c55-88a6-32a8dbf8b1fe",
   "metadata": {},
   "source": [
    "Text are variable length sequence data with semantic relationship between words so  we need to capture semantic relationship and convert variable length sequence into fixed length."
   ]
  },
  {
   "cell_type": "markdown",
   "id": "31abb0e2-7b25-461e-bd6d-b4a3fbd554f7",
   "metadata": {},
   "source": [
    "***How to capture the sentiment and review relationship for better model performance ?***\n",
    "\n",
    "Explanation: Words like wonderful - sometimes  positive sentiment, but if I look at in sentence context \"This movie is not wonderful\" - negative sentiment. so we will use both word and sentence relationship for sentiment classifier.\n",
    "\n",
    "     1. Tokenization of  words and sentence  - analyze sentiment at the word level and analyze sentiment at the sentence level respectively.\n"
   ]
  },
  {
   "cell_type": "code",
   "execution_count": 19,
   "id": "2df4000b-3c91-441c-9e62-21e40ae14fe6",
   "metadata": {},
   "outputs": [
    {
     "data": {
      "text/html": [
       "<div>\n",
       "<style scoped>\n",
       "    .dataframe tbody tr th:only-of-type {\n",
       "        vertical-align: middle;\n",
       "    }\n",
       "\n",
       "    .dataframe tbody tr th {\n",
       "        vertical-align: top;\n",
       "    }\n",
       "\n",
       "    .dataframe thead th {\n",
       "        text-align: right;\n",
       "    }\n",
       "</style>\n",
       "<table border=\"1\" class=\"dataframe\">\n",
       "  <thead>\n",
       "    <tr style=\"text-align: right;\">\n",
       "      <th></th>\n",
       "      <th>review</th>\n",
       "      <th>sentiment</th>\n",
       "      <th>review_word_token</th>\n",
       "      <th>review_sent_token</th>\n",
       "    </tr>\n",
       "  </thead>\n",
       "  <tbody>\n",
       "    <tr>\n",
       "      <th>0</th>\n",
       "      <td>one of the other reviewers has mentioned that ...</td>\n",
       "      <td>positive</td>\n",
       "      <td>[one, of, the, other, reviewers, has, mentione...</td>\n",
       "      <td>[one of the other reviewers has mentioned that...</td>\n",
       "    </tr>\n",
       "    <tr>\n",
       "      <th>1</th>\n",
       "      <td>a wonderful little production br br the filmin...</td>\n",
       "      <td>positive</td>\n",
       "      <td>[a, wonderful, little, production, br, br, the...</td>\n",
       "      <td>[a wonderful little production br br the filmi...</td>\n",
       "    </tr>\n",
       "    <tr>\n",
       "      <th>2</th>\n",
       "      <td>i thought this was a wonderful way to spend Te...</td>\n",
       "      <td>positive</td>\n",
       "      <td>[i, thought, this, was, a, wonderful, way, to,...</td>\n",
       "      <td>[i thought this was a wonderful way to spend T...</td>\n",
       "    </tr>\n",
       "    <tr>\n",
       "      <th>3</th>\n",
       "      <td>basically theres a family where a little boy j...</td>\n",
       "      <td>negative</td>\n",
       "      <td>[basically, theres, a, family, where, a, littl...</td>\n",
       "      <td>[basically theres a family where a little boy ...</td>\n",
       "    </tr>\n",
       "    <tr>\n",
       "      <th>4</th>\n",
       "      <td>petter matteis love in the Tears in my eyes of...</td>\n",
       "      <td>positive</td>\n",
       "      <td>[petter, matteis, love, in, the, Tears, in, my...</td>\n",
       "      <td>[petter matteis love in the Tears in my eyes o...</td>\n",
       "    </tr>\n",
       "  </tbody>\n",
       "</table>\n",
       "</div>"
      ],
      "text/plain": [
       "                                              review sentiment  \\\n",
       "0  one of the other reviewers has mentioned that ...  positive   \n",
       "1  a wonderful little production br br the filmin...  positive   \n",
       "2  i thought this was a wonderful way to spend Te...  positive   \n",
       "3  basically theres a family where a little boy j...  negative   \n",
       "4  petter matteis love in the Tears in my eyes of...  positive   \n",
       "\n",
       "                                   review_word_token  \\\n",
       "0  [one, of, the, other, reviewers, has, mentione...   \n",
       "1  [a, wonderful, little, production, br, br, the...   \n",
       "2  [i, thought, this, was, a, wonderful, way, to,...   \n",
       "3  [basically, theres, a, family, where, a, littl...   \n",
       "4  [petter, matteis, love, in, the, Tears, in, my...   \n",
       "\n",
       "                                   review_sent_token  \n",
       "0  [one of the other reviewers has mentioned that...  \n",
       "1  [a wonderful little production br br the filmi...  \n",
       "2  [i thought this was a wonderful way to spend T...  \n",
       "3  [basically theres a family where a little boy ...  \n",
       "4  [petter matteis love in the Tears in my eyes o...  "
      ]
     },
     "execution_count": 19,
     "metadata": {},
     "output_type": "execute_result"
    }
   ],
   "source": [
    "from nltk.tokenize import word_tokenize\n",
    "from nltk.tokenize import sent_tokenize\n",
    "\n",
    "def tokenization(df):\n",
    "    \"\"\"\n",
    "    Applying word level and sentence level tokenization\n",
    "    \"\"\"\n",
    "    df['review_word_token'] = df['review'].apply(word_tokenize)\n",
    "    df['review_sent_token'] = df['review'].apply(sent_tokenize)\n",
    "    return df\n",
    "\n",
    "df = tokenization(df)\n",
    "df.head()"
   ]
  },
  {
   "cell_type": "markdown",
   "id": "db52b8a8-acf8-4eff-a65f-8a9dd9459ee9",
   "metadata": {},
   "source": [
    "\n",
    "\n",
    "We know some reviews are very lengthy, some are average length. but reviews contains only few unique words that gives meaning to the sentence. In other words, sentences are formed by combination of unique words. \n",
    "E.G Words like Walking, walked has base form \"walk\"\n",
    "\n",
    "Problems can be faced after Tokenization: Common problems include handling prefixes, suffixes, and special characters.\n",
    "Algorithms may struggle with understanding certain characters and word structures so to solve this problem these Two techniques like Stemming and Lemmatization can be used.\n",
    "I prefer Lemmatization: It preserves actual meaning of the word by considering its grammatical role in the sentence and considers the context, part-of-speech of a word which is crucial for accurate sentiment analysis."
   ]
  },
  {
   "cell_type": "markdown",
   "id": "42ac074d-4215-409f-836f-fed5be115311",
   "metadata": {},
   "source": [
    "***Lemmatization***"
   ]
  },
  {
   "cell_type": "code",
   "execution_count": 20,
   "id": "ad07bea9-7716-43f0-933a-73a0e4662f70",
   "metadata": {},
   "outputs": [],
   "source": [
    "from nltk.stem import WordNetLemmatizer\n",
    "\n",
    "\n",
    "def lemma_traincorpus(data):\n",
    "    lemmatizer=WordNetLemmatizer()\n",
    "    out_data=\"\"\n",
    "    for words in data:\n",
    "        out_data+= lemmatizer.lemmatize(words)\n",
    "    return out_data\n",
    "\n",
    "df['review_lemm']=df['review'].apply(lambda z: lemma_traincorpus(z))"
   ]
  },
  {
   "cell_type": "markdown",
   "id": "8f427162-917a-45ee-9928-5af8a459ad24",
   "metadata": {},
   "source": [
    "***Converting positive and negative  to 1 and 0***"
   ]
  },
  {
   "cell_type": "code",
   "execution_count": 21,
   "id": "9220d3c7-da27-4c7f-8abb-a2b56f0bd0df",
   "metadata": {},
   "outputs": [],
   "source": [
    "from sklearn.preprocessing import LabelEncoder\n",
    "label_encoder = LabelEncoder()\n",
    "df['sentiment'] = label_encoder.fit_transform(df['sentiment'])"
   ]
  },
  {
   "cell_type": "code",
   "execution_count": 22,
   "id": "96fbf6ed-9078-4c95-af0f-45e5d9350d58",
   "metadata": {},
   "outputs": [
    {
     "data": {
      "text/plain": [
       "Index(['review', 'sentiment', 'review_word_token', 'review_sent_token',\n",
       "       'review_lemm'],\n",
       "      dtype='object')"
      ]
     },
     "execution_count": 22,
     "metadata": {},
     "output_type": "execute_result"
    }
   ],
   "source": [
    "df.columns"
   ]
  },
  {
   "cell_type": "markdown",
   "id": "46d2f983-bd57-4000-841a-779e66b7e403",
   "metadata": {},
   "source": [
    "# 2. Dataset splitting\n",
    "We will split the dataset into\n",
    " 1. Training set   - This will help model to learn relationship and patterns present in dataset. - 70%\n",
    " 2. Validation set - This will be useful for model selection - 20%\n",
    " 3. Testing set    - This will help us to know whether our model learn and generalizes properly or memorize the dataset (Overfitting)- 10%\n"
   ]
  },
  {
   "cell_type": "code",
   "execution_count": 23,
   "id": "cb1e36a9-a665-4a3e-8cc4-2dd9150e1e8d",
   "metadata": {},
   "outputs": [],
   "source": [
    "from sklearn.model_selection import train_test_split\n",
    "\n",
    "# Define the split ratios\n",
    "train_size = 0.7  # 70% for training data\n",
    "val_size = 0.2  # 20% for validation data\n",
    "test_size = 0.1  # 10% for testing data\n",
    "\n",
    "train_val, test_data = train_test_split(df, test_size=test_size, random_state=42)\n",
    "train_data, val_data = train_test_split(train_val, test_size=val_size/(val_size+train_size), random_state=42)"
   ]
  },
  {
   "cell_type": "markdown",
   "id": "38cecd00-78ab-469a-b3dd-1b56097b0619",
   "metadata": {},
   "source": [
    "# 2. Feature Engineering and  Model Creation\n",
    "It involves creating features that represent the sentiment of the text.\n",
    "\n",
    "We can reuse whenever we need it."
   ]
  },
  {
   "cell_type": "code",
   "execution_count": 24,
   "id": "479dd4c0-a636-49fd-adb0-e328b8c15b7e",
   "metadata": {},
   "outputs": [
    {
     "data": {
      "text/plain": [
       "sentiment\n",
       "0    17546\n",
       "1    17453\n",
       "Name: count, dtype: int64"
      ]
     },
     "execution_count": 24,
     "metadata": {},
     "output_type": "execute_result"
    }
   ],
   "source": [
    "train_data['sentiment'].value_counts()"
   ]
  },
  {
   "cell_type": "markdown",
   "id": "e8d8fe06-88df-4a1a-8603-448fa4ae3093",
   "metadata": {},
   "source": [
    "***Inference***: After splitting the dataset, Class Imbalance occurs so to mitigate this problem I have choose oversampling technique."
   ]
  },
  {
   "cell_type": "code",
   "execution_count": 25,
   "id": "eb6226ff-fda4-4ecc-af22-d7520daf8d25",
   "metadata": {},
   "outputs": [],
   "source": [
    "from imblearn.pipeline import Pipeline as ImbPipeline\n",
    "from imblearn.over_sampling import SMOTE\n",
    "from sklearn.feature_extraction.text import CountVectorizer, TfidfTransformer\n",
    "from sklearn.linear_model import LogisticRegression\n",
    "from sklearn.svm import SVC  # Example of additional model (SVM)\n",
    "from sklearn.ensemble import GradientBoostingClassifier  # Example of additional model (Gradient Boosting)\n",
    "from sklearn.metrics import accuracy_score, precision_score, recall_score, f1_score, classification_report\n",
    "\n",
    "\n",
    "def train_model(train_data, model_type=\"LogisticRegression\", model_params={}):\n",
    "  \"\"\"\n",
    "  Trains a machine learning model for sentiment analysis using a pipeline that includes text pre-processing and oversampling for imbalanced data.\n",
    "  \"\"\"\n",
    "\n",
    "  pipeline = ImbPipeline([\n",
    "      ('vect', CountVectorizer()),\n",
    "      ('tfidf', TfidfTransformer()),\n",
    "      ('smote', SMOTE(random_state=42)),\n",
    "  ])\n",
    "\n",
    "  # Model selection and hyperparameter assignment (no GridSearchCV)\n",
    "  if model_type == \"LogisticRegression\":\n",
    "      selected_model = LogisticRegression(**model_params)\n",
    "  elif model_type == \"LinearSVC\":\n",
    "      selected_model = LinearSVC(**model_params)\n",
    "  elif model_type == \"SGDClassifier\":\n",
    "      selected_model = SGDClassifier(**model_params)\n",
    "  elif model_type == \"XGBoost\":\n",
    "      selected_model = XGBClassifier(**model_params)\n",
    "  else:\n",
    "      raise ValueError(f\"Unsupported model type: {model_type}\")\n",
    "\n",
    "  pipeline.steps.append((\"model\", selected_model))\n",
    "\n",
    "  # Train the model\n",
    "  pipeline.fit(train_data['review_lemm'], train_data['sentiment'])\n",
    "\n",
    "  # Return the trained pipeline\n",
    "  return pipeline\n",
    "    \n",
    "\n",
    "def evaluate_model(model, train_data, val_data,test_data):\n",
    "  \"\"\"\n",
    "  Evaluates a trained model on both training and validation datasets.\n",
    "\n",
    "  \"\"\"\n",
    "\n",
    "  # Evaluate on training dataset\n",
    "  train_predictions = model.predict(train_data['review'])\n",
    "  train_accuracy = accuracy_score(train_data['sentiment'], train_predictions)\n",
    "  train_precision = precision_score(train_data['sentiment'], train_predictions)\n",
    "  train_recall = recall_score(train_data['sentiment'], train_predictions)\n",
    "  train_f1 = f1_score(train_data['sentiment'], train_predictions)\n",
    "\n",
    "  # Evaluate on validation dataset\n",
    "  val_data_predictions = model.predict(val_data['review'])\n",
    "  val_accuracy = accuracy_score(val_data['sentiment'], val_data_predictions)\n",
    "  val_precision = precision_score(val_data['sentiment'], val_data_predictions)\n",
    "  val_recall = recall_score(val_data['sentiment'], val_data_predictions)\n",
    "  val_f1 = f1_score(val_data['sentiment'],val_data_predictions)\n",
    "\n",
    "  # Evaluate on test dataset\n",
    "  test_data_predictions = model.predict(test_data['review'])\n",
    "  test_accuracy = accuracy_score(test_data['sentiment'], test_data_predictions)\n",
    "  test_precision = precision_score(test_data['sentiment'], test_data_predictions)\n",
    "  test_recall = recall_score(test_data['sentiment'], test_data_predictions)\n",
    "  test_f1 = f1_score(test_data['sentiment'],test_data_predictions)\n",
    "\n",
    "  # Display metrics\n",
    "  results = {\n",
    "        'Metric': ['Accuracy', 'Precision', 'Recall', 'F1-Score'],\n",
    "        'Training': [train_accuracy, train_precision, train_recall, train_f1],\n",
    "        'Validation': [val_accuracy, val_precision, val_recall, val_f1],\n",
    "         'Testing': [test_accuracy, test_precision, test_recall, test_f1]\n",
    "    }\n",
    "  df_metrics = pd.DataFrame(results).set_index('Metric')\n",
    "    \n",
    "\n",
    "  res_metrics = pd.DataFrame(results)\n",
    "  return res_metrics \n"
   ]
  },
  {
   "cell_type": "markdown",
   "id": "6d623b7c-be62-4046-aa8e-40874558fcd2",
   "metadata": {},
   "source": [
    "# 3. Model Training and Model Selection\n"
   ]
  },
  {
   "cell_type": "markdown",
   "id": "fc9fbc18-c619-4ac3-9299-e7eca00215f7",
   "metadata": {},
   "source": [
    "***1. Logistic Regression***"
   ]
  },
  {
   "cell_type": "code",
   "execution_count": 26,
   "id": "7882de7b-3212-4564-a55f-a0e169788b23",
   "metadata": {},
   "outputs": [],
   "source": [
    "logistic_model = train_model(train_data, model_type=\"LogisticRegression\")\n",
    "logistic_performance = evaluate_model(logistic_model, train_data, val_data,test_data)"
   ]
  },
  {
   "cell_type": "markdown",
   "id": "a2cf3823-31d0-4c69-81b1-78fdd959b4b6",
   "metadata": {},
   "source": [
    "***2.Linear SVC***"
   ]
  },
  {
   "cell_type": "code",
   "execution_count": 27,
   "id": "f26c095f-1949-4d24-87c4-533102300be6",
   "metadata": {},
   "outputs": [],
   "source": [
    "from sklearn.svm import LinearSVC\n",
    "linear_svc_model = train_model(train_data, model_type=\"LinearSVC\")\n",
    "lsvc_performance = evaluate_model(linear_svc_model, train_data, val_data,test_data)"
   ]
  },
  {
   "cell_type": "markdown",
   "id": "dea87c5c-0b61-4a94-84c1-8af813b82e94",
   "metadata": {},
   "source": [
    "***3.SGD Classifier***"
   ]
  },
  {
   "cell_type": "code",
   "execution_count": 28,
   "id": "bccfa488-ef94-43f3-b6f9-2b1a2e6f0303",
   "metadata": {},
   "outputs": [],
   "source": [
    "from sklearn.linear_model import  SGDClassifier\n",
    "sgd_model = train_model(train_data, model_type=\"SGDClassifier\", model_params={\"loss\": \"hinge\", \"penalty\": \"l2\"})\n",
    "sgd_performance = evaluate_model(sgd_model, train_data, val_data,test_data)"
   ]
  },
  {
   "cell_type": "markdown",
   "id": "5ca5b420-6471-4231-b35f-143d1ea679c1",
   "metadata": {},
   "source": [
    "***4.XGBoost***"
   ]
  },
  {
   "cell_type": "code",
   "execution_count": 29,
   "id": "8e0aeb1d-6a38-4963-bbeb-47eb5497a036",
   "metadata": {
    "scrolled": true
   },
   "outputs": [],
   "source": [
    "from xgboost import XGBClassifier\n",
    "XGB_model = train_model(train_data, model_type=\"XGBoost\",model_params={'objective':'binary:logistic', 'random_state':42})\n",
    "xgb_performance = evaluate_model(XGB_model, train_data, val_data,test_data)"
   ]
  },
  {
   "cell_type": "code",
   "execution_count": 30,
   "id": "f45d9460-67e9-4c07-aa67-00be0362e332",
   "metadata": {},
   "outputs": [
    {
     "data": {
      "text/html": [
       "\n",
       "<div style=\"display: flex;\">\n",
       "  <div style=\"flex: 0 0 20%;\">\n",
       "    <h2>Logistic Regression</h2>\n",
       "    <table border=\"1\" class=\"dataframe\">\n",
       "  <thead>\n",
       "    <tr style=\"text-align: right;\">\n",
       "      <th>Metric</th>\n",
       "      <th>Training</th>\n",
       "      <th>Validation</th>\n",
       "      <th>Testing</th>\n",
       "    </tr>\n",
       "  </thead>\n",
       "  <tbody>\n",
       "    <tr>\n",
       "      <td>Accuracy</td>\n",
       "      <td>0.931769</td>\n",
       "      <td>0.897910</td>\n",
       "      <td>0.894600</td>\n",
       "    </tr>\n",
       "    <tr>\n",
       "      <td>Precision</td>\n",
       "      <td>0.926119</td>\n",
       "      <td>0.887599</td>\n",
       "      <td>0.883667</td>\n",
       "    </tr>\n",
       "    <tr>\n",
       "      <td>Recall</td>\n",
       "      <td>0.938005</td>\n",
       "      <td>0.912490</td>\n",
       "      <td>0.910679</td>\n",
       "    </tr>\n",
       "    <tr>\n",
       "      <td>F1-Score</td>\n",
       "      <td>0.932024</td>\n",
       "      <td>0.899873</td>\n",
       "      <td>0.896970</td>\n",
       "    </tr>\n",
       "  </tbody>\n",
       "</table>\n",
       "  </div>\n",
       "    <div style=\"flex: 0 0 20%;\">\n",
       "    <h2>SGD Classifier</h2>\n",
       "    <table border=\"1\" class=\"dataframe\">\n",
       "  <thead>\n",
       "    <tr style=\"text-align: right;\">\n",
       "      <th>Metric</th>\n",
       "      <th>Training</th>\n",
       "      <th>Validation</th>\n",
       "      <th>Testing</th>\n",
       "    </tr>\n",
       "  </thead>\n",
       "  <tbody>\n",
       "    <tr>\n",
       "      <td>Accuracy</td>\n",
       "      <td>0.929427</td>\n",
       "      <td>0.898210</td>\n",
       "      <td>0.895600</td>\n",
       "    </tr>\n",
       "    <tr>\n",
       "      <td>Precision</td>\n",
       "      <td>0.920894</td>\n",
       "      <td>0.884100</td>\n",
       "      <td>0.883301</td>\n",
       "    </tr>\n",
       "    <tr>\n",
       "      <td>Recall</td>\n",
       "      <td>0.939151</td>\n",
       "      <td>0.917860</td>\n",
       "      <td>0.913458</td>\n",
       "    </tr>\n",
       "    <tr>\n",
       "      <td>F1-Score</td>\n",
       "      <td>0.929933</td>\n",
       "      <td>0.900664</td>\n",
       "      <td>0.898126</td>\n",
       "    </tr>\n",
       "  </tbody>\n",
       "</table>\n",
       "  </div>\n",
       "  <div style=\"flex: 0 0 20%;\">\n",
       "    <h2>Linear SVC</h2>\n",
       "    <table border=\"1\" class=\"dataframe\">\n",
       "  <thead>\n",
       "    <tr style=\"text-align: right;\">\n",
       "      <th>Metric</th>\n",
       "      <th>Training</th>\n",
       "      <th>Validation</th>\n",
       "      <th>Testing</th>\n",
       "    </tr>\n",
       "  </thead>\n",
       "  <tbody>\n",
       "    <tr>\n",
       "      <td>Accuracy</td>\n",
       "      <td>0.991314</td>\n",
       "      <td>0.899310</td>\n",
       "      <td>0.898200</td>\n",
       "    </tr>\n",
       "    <tr>\n",
       "      <td>Precision</td>\n",
       "      <td>0.991010</td>\n",
       "      <td>0.888202</td>\n",
       "      <td>0.890747</td>\n",
       "    </tr>\n",
       "    <tr>\n",
       "      <td>Recall</td>\n",
       "      <td>0.991577</td>\n",
       "      <td>0.914877</td>\n",
       "      <td>0.909488</td>\n",
       "    </tr>\n",
       "    <tr>\n",
       "      <td>F1-Score</td>\n",
       "      <td>0.991293</td>\n",
       "      <td>0.901342</td>\n",
       "      <td>0.900020</td>\n",
       "    </tr>\n",
       "  </tbody>\n",
       "</table>\n",
       "  </div>\n",
       "  <div style=\"flex: 0 0 20%;\">\n",
       "    <h2>XGBoost</h2>\n",
       "    <table border=\"1\" class=\"dataframe\">\n",
       "  <thead>\n",
       "    <tr style=\"text-align: right;\">\n",
       "      <th>Metric</th>\n",
       "      <th>Training</th>\n",
       "      <th>Validation</th>\n",
       "      <th>Testing</th>\n",
       "    </tr>\n",
       "  </thead>\n",
       "  <tbody>\n",
       "    <tr>\n",
       "      <td>Accuracy</td>\n",
       "      <td>0.940370</td>\n",
       "      <td>0.856514</td>\n",
       "      <td>0.868000</td>\n",
       "    </tr>\n",
       "    <tr>\n",
       "      <td>Precision</td>\n",
       "      <td>0.927498</td>\n",
       "      <td>0.839026</td>\n",
       "      <td>0.853288</td>\n",
       "    </tr>\n",
       "    <tr>\n",
       "      <td>Recall</td>\n",
       "      <td>0.955079</td>\n",
       "      <td>0.884248</td>\n",
       "      <td>0.891227</td>\n",
       "    </tr>\n",
       "    <tr>\n",
       "      <td>F1-Score</td>\n",
       "      <td>0.941087</td>\n",
       "      <td>0.861044</td>\n",
       "      <td>0.871845</td>\n",
       "    </tr>\n",
       "  </tbody>\n",
       "</table>\n",
       "  </div>\n",
       "</div>\n"
      ],
      "text/plain": [
       "<IPython.core.display.HTML object>"
      ]
     },
     "metadata": {},
     "output_type": "display_data"
    }
   ],
   "source": [
    "from IPython.display import HTML\n",
    "# Create HTML with titles and tables\n",
    "html_str = \"\"\"\n",
    "<div style=\"display: flex;\">\n",
    "  <div style=\"flex: 0 0 20%;\">\n",
    "    <h2>Logistic Regression</h2>\n",
    "    \"\"\" + logistic_performance.to_html(index=False) + \"\"\"\n",
    "  </div>\n",
    "    <div style=\"flex: 0 0 20%;\">\n",
    "    <h2>SGD Classifier</h2>\n",
    "    \"\"\" + sgd_performance.to_html(index=False) + \"\"\"\n",
    "  </div>\n",
    "  <div style=\"flex: 0 0 20%;\">\n",
    "    <h2>Linear SVC</h2>\n",
    "    \"\"\" + lsvc_performance.to_html(index=False) + \"\"\"\n",
    "  </div>\n",
    "  <div style=\"flex: 0 0 20%;\">\n",
    "    <h2>XGBoost</h2>\n",
    "    \"\"\" + xgb_performance.to_html(index=False) + \"\"\"\n",
    "  </div>\n",
    "</div>\n",
    "\"\"\"\n",
    "\n",
    "display(HTML(html_str))"
   ]
  },
  {
   "cell_type": "markdown",
   "id": "4928ced2-85c8-49b8-84d6-629fff6f6c32",
   "metadata": {},
   "source": [
    "***Inference***:\n",
    "1. Linear SVC and XGBoost faces overfitting i.e Large gap between training and validation performance.\n",
    "2. Logistic Regression and SGD Classifier faces slight overfitting. i.e There's a small gap between the training and validation performance. This suggests a potential for slight overfitting.\n",
    "\n",
    "Note:\n",
    "**High Training Performance and Low Validation Performance - so our model faces overfitting problem,model will memorize the data instead of learning patterns**\n",
    "\n",
    "There are some ways to overcome this problem like **Increase Training Data Size**, **K-Fold Cross-Validation**,**ensembling** **Regularization** etc..\n",
    "\n",
    "But let me try with some deep learning technique because now we are in deep learning era 😉..\n",
    "Real reason is CountVectorizer ,TFIDF vectorization are non semantic techniques used for traditional statiscal Machine Learning to set initial benchmark. These methods represent text data numerically based on word counts or frequencies without considering word meaning or relationships between words. CountVectorizer and TF-IDF fall into this category. \n",
    "\n"
   ]
  },
  {
   "cell_type": "markdown",
   "id": "f91384bc-bb16-48de-909f-1342b45981be",
   "metadata": {},
   "source": [
    "# Vocabulary creation using words token and creating Embedding layer\n",
    "\n",
    "***Why do we need to do this ?***\n",
    "Explanation:\n",
    "    Deep learning models operate on numerical data. Textual reviews, on the other hand, are english texts. One-hot encoding and embedding layers act as bridges between these two worlds.\n",
    "    "
   ]
  },
  {
   "cell_type": "code",
   "execution_count": 24,
   "id": "404d8b4b-eabe-4a6c-bfd7-23bc0ca5bce9",
   "metadata": {},
   "outputs": [
    {
     "data": {
      "text/html": [
       "<div>\n",
       "<style scoped>\n",
       "    .dataframe tbody tr th:only-of-type {\n",
       "        vertical-align: middle;\n",
       "    }\n",
       "\n",
       "    .dataframe tbody tr th {\n",
       "        vertical-align: top;\n",
       "    }\n",
       "\n",
       "    .dataframe thead th {\n",
       "        text-align: right;\n",
       "    }\n",
       "</style>\n",
       "<table border=\"1\" class=\"dataframe\">\n",
       "  <thead>\n",
       "    <tr style=\"text-align: right;\">\n",
       "      <th></th>\n",
       "      <th>review</th>\n",
       "      <th>sentiment</th>\n",
       "      <th>review_word_token</th>\n",
       "      <th>review_sent_token</th>\n",
       "      <th>review_lemm</th>\n",
       "      <th>encoded_reviews</th>\n",
       "    </tr>\n",
       "  </thead>\n",
       "  <tbody>\n",
       "    <tr>\n",
       "      <th>0</th>\n",
       "      <td>one of the other reviewers has mentioned that ...</td>\n",
       "      <td>1</td>\n",
       "      <td>[one, of, the, other, reviewers, has, mentione...</td>\n",
       "      <td>[one of the other reviewers has mentioned that...</td>\n",
       "      <td>one of the other reviewers has mentioned that ...</td>\n",
       "      <td>[28, 4, 1, 78, 1940, 45, 1062, 11, 101, 146, 4...</td>\n",
       "    </tr>\n",
       "    <tr>\n",
       "      <th>1</th>\n",
       "      <td>a wonderful little production br br the filmin...</td>\n",
       "      <td>1</td>\n",
       "      <td>[a, wonderful, little, production, br, br, the...</td>\n",
       "      <td>[a wonderful little production br br the filmi...</td>\n",
       "      <td>a wonderful little production br br the filmin...</td>\n",
       "      <td>[3, 385, 116, 359, 12, 12, 1, 1364, 3017, 6, 5...</td>\n",
       "    </tr>\n",
       "    <tr>\n",
       "      <th>2</th>\n",
       "      <td>i thought this was a wonderful way to spend Te...</td>\n",
       "      <td>1</td>\n",
       "      <td>[i, thought, this, was, a, wonderful, way, to,...</td>\n",
       "      <td>[i thought this was a wonderful way to spend T...</td>\n",
       "      <td>i thought this was a wonderful way to spend Te...</td>\n",
       "      <td>[9, 196, 10, 13, 3, 385, 99, 5, 1109, 60, 7, 3...</td>\n",
       "    </tr>\n",
       "    <tr>\n",
       "      <th>3</th>\n",
       "      <td>basically theres a family where a little boy j...</td>\n",
       "      <td>0</td>\n",
       "      <td>[basically, theres, a, family, where, a, littl...</td>\n",
       "      <td>[basically theres a family where a little boy ...</td>\n",
       "      <td>basically theres a family where a little boy j...</td>\n",
       "      <td>[663, 212, 3, 236, 113, 3, 116, 440, 3558, 120...</td>\n",
       "    </tr>\n",
       "    <tr>\n",
       "      <th>4</th>\n",
       "      <td>petter matteis love in the Tears in my eyes of...</td>\n",
       "      <td>1</td>\n",
       "      <td>[petter, matteis, love, in, the, Tears, in, my...</td>\n",
       "      <td>[petter matteis love in the Tears in my eyes o...</td>\n",
       "      <td>petter matteis love in the Tears in my eyes of...</td>\n",
       "      <td>[81736, 34945, 111, 7, 1, 60, 7, 30, 54, 4, 29...</td>\n",
       "    </tr>\n",
       "  </tbody>\n",
       "</table>\n",
       "</div>"
      ],
      "text/plain": [
       "                                              review  sentiment  \\\n",
       "0  one of the other reviewers has mentioned that ...          1   \n",
       "1  a wonderful little production br br the filmin...          1   \n",
       "2  i thought this was a wonderful way to spend Te...          1   \n",
       "3  basically theres a family where a little boy j...          0   \n",
       "4  petter matteis love in the Tears in my eyes of...          1   \n",
       "\n",
       "                                   review_word_token  \\\n",
       "0  [one, of, the, other, reviewers, has, mentione...   \n",
       "1  [a, wonderful, little, production, br, br, the...   \n",
       "2  [i, thought, this, was, a, wonderful, way, to,...   \n",
       "3  [basically, theres, a, family, where, a, littl...   \n",
       "4  [petter, matteis, love, in, the, Tears, in, my...   \n",
       "\n",
       "                                   review_sent_token  \\\n",
       "0  [one of the other reviewers has mentioned that...   \n",
       "1  [a wonderful little production br br the filmi...   \n",
       "2  [i thought this was a wonderful way to spend T...   \n",
       "3  [basically theres a family where a little boy ...   \n",
       "4  [petter matteis love in the Tears in my eyes o...   \n",
       "\n",
       "                                         review_lemm  \\\n",
       "0  one of the other reviewers has mentioned that ...   \n",
       "1  a wonderful little production br br the filmin...   \n",
       "2  i thought this was a wonderful way to spend Te...   \n",
       "3  basically theres a family where a little boy j...   \n",
       "4  petter matteis love in the Tears in my eyes of...   \n",
       "\n",
       "                                     encoded_reviews  \n",
       "0  [28, 4, 1, 78, 1940, 45, 1062, 11, 101, 146, 4...  \n",
       "1  [3, 385, 116, 359, 12, 12, 1, 1364, 3017, 6, 5...  \n",
       "2  [9, 196, 10, 13, 3, 385, 99, 5, 1109, 60, 7, 3...  \n",
       "3  [663, 212, 3, 236, 113, 3, 116, 440, 3558, 120...  \n",
       "4  [81736, 34945, 111, 7, 1, 60, 7, 30, 54, 4, 29...  "
      ]
     },
     "execution_count": 24,
     "metadata": {},
     "output_type": "execute_result"
    }
   ],
   "source": [
    "corpus = [word for text in df['review_lemm'] for word in text.split()]\n",
    "count_words = Counter(corpus)\n",
    "sorted_words = count_words.most_common()\n",
    "vocab_to_int = {w: i + 1 for i, (w, c) in enumerate(sorted_words)}\n",
    "reviews_int = []\n",
    "for text in df['review_lemm']:\n",
    "    r = [vocab_to_int[word] for word in text.split()]\n",
    "    reviews_int.append(r)\n",
    "\n",
    "\n",
    "df['encoded_reviews'] =  reviews_int\n",
    "df.head()"
   ]
  },
  {
   "cell_type": "markdown",
   "id": "d133da68-039b-4c68-8e3b-955bbc2a5d7f",
   "metadata": {},
   "source": [
    "For reviews shorter than seq_length, we will pad with 0s. For reviews longer than seq_length we will truncate them to the first seq_length words"
   ]
  },
  {
   "cell_type": "code",
   "execution_count": 25,
   "id": "ce3ab67f-c4d8-49f7-bd7b-4d59fdc5bcfe",
   "metadata": {},
   "outputs": [],
   "source": [
    "def Padding(review_int, seq_len):\n",
    "    '''\n",
    "    Return features of encoded_reviews, where each review is padded with 0's or truncated to the input seq_length.\n",
    "    '''\n",
    "    features = np.zeros((len(reviews_int), seq_len), dtype = int)\n",
    "    for i, review in enumerate(review_int):\n",
    "        if len(review) <= seq_len:\n",
    "            zeros = list(np.zeros(seq_len - len(review)))\n",
    "            new = zeros + review\n",
    "        else:\n",
    "            new = review[: seq_len]\n",
    "        features[i, :] = np.array(new)\n",
    "            \n",
    "    return features"
   ]
  },
  {
   "cell_type": "code",
   "execution_count": 26,
   "id": "fece03f2-398a-491b-9937-b005b136fd37",
   "metadata": {},
   "outputs": [
    {
     "data": {
      "text/plain": [
       "count    50000.00000\n",
       "mean       231.65996\n",
       "std        171.50984\n",
       "min          4.00000\n",
       "25%        127.00000\n",
       "50%        174.00000\n",
       "75%        281.00000\n",
       "max       2481.00000\n",
       "Name: encoded_reviews, dtype: float64"
      ]
     },
     "execution_count": 26,
     "metadata": {},
     "output_type": "execute_result"
    }
   ],
   "source": [
    "df[\"encoded_reviews\"].apply(lambda x: len(x)).describe()"
   ]
  },
  {
   "cell_type": "code",
   "execution_count": 27,
   "id": "890bffd8-f615-4f5f-9749-736613868a6a",
   "metadata": {},
   "outputs": [
    {
     "data": {
      "image/png": "[encoded data removed]",
      "text/plain": [
       "<Figure size 640x480 with 1 Axes>"
      ]
     },
     "metadata": {},
     "output_type": "display_data"
    }
   ],
   "source": [
    "df[\"encoded_reviews\"].apply(lambda x: len(x)).hist()\n",
    "plt.title('Review length distribution', size=15)\n",
    "plt.show()"
   ]
  },
  {
   "cell_type": "markdown",
   "id": "54fe2d5d-7288-4a47-96f4-f898f14291d8",
   "metadata": {},
   "source": [
    "***Inference***: We can see that majority of them are below 500. So we padded/truncated the reviews to 500 words."
   ]
  },
  {
   "cell_type": "code",
   "execution_count": 28,
   "id": "a188a0a8-50c8-4214-8ffd-6b59db7f6c85",
   "metadata": {},
   "outputs": [],
   "source": [
    "seq_length = 200  # The length that the reviews will be padded/truncated to\n",
    "features = Padding(df['encoded_reviews'], seq_length)\n"
   ]
  },
  {
   "cell_type": "code",
   "execution_count": 29,
   "id": "c2eb5991-7413-4734-9d4f-6c85b90add1c",
   "metadata": {},
   "outputs": [
    {
     "name": "stdout",
     "output_type": "stream",
     "text": [
      "Train set size: 30000\n",
      "Validation set size: 10000\n",
      "Test set size: 10000\n"
     ]
    }
   ],
   "source": [
    "X_train, X_val, y_train, y_val = train_test_split(features, df['sentiment'].to_numpy(), test_size=0.2, random_state=0)\n",
    "X_train, X_test, y_train, y_test = train_test_split(X_train, y_train, test_size=0.25, random_state=42)\n",
    "print(\"Train set size:\", len(X_train))\n",
    "print(\"Validation set size:\", len(X_val))\n",
    "print(\"Test set size:\", len(X_test))"
   ]
  },
  {
   "cell_type": "markdown",
   "id": "5f0c53cb-2181-4b55-845d-3c4f567ba1f7",
   "metadata": {},
   "source": [
    "I will be using PyTorch, it is essential to convert data into tensors and then into a DataLoaders, so the data can be effectively used in the training loop of neural network models."
   ]
  },
  {
   "cell_type": "code",
   "execution_count": 30,
   "id": "392db684-78fc-4904-afc8-cfc8bab4b3c8",
   "metadata": {},
   "outputs": [],
   "source": [
    "from torch.utils.data import DataLoader, TensorDataset\n",
    "# Convert data to PyTorch tensors and then to DataLoader\n",
    "train_data = TensorDataset(torch.from_numpy(X_train), torch.from_numpy(y_train))\n",
    "val_data = TensorDataset(torch.from_numpy(X_val), torch.from_numpy(y_val))\n",
    "test_data = TensorDataset(torch.from_numpy(X_test), torch.from_numpy(y_test))\n",
    "batch_size = 50\n",
    "\n",
    "# To create iterable data loaders that allow batch processing of the data.\n",
    "train_loader = DataLoader(train_data, shuffle=True, batch_size=batch_size)\n",
    "valid_loader = DataLoader(val_data, shuffle=True, batch_size=batch_size)\n",
    "test_loader = DataLoader(test_data, shuffle=True, batch_size=batch_size)"
   ]
  },
  {
   "cell_type": "markdown",
   "id": "a415d7d9-a8de-432e-b688-9aa7b9f637ac",
   "metadata": {},
   "source": [
    "# RNN Model training and Evaluation \n",
    "(LSTM is type of RNN with three gates extra)"
   ]
  },
  {
   "cell_type": "markdown",
   "id": "180a88c6-712d-45b7-ab9b-62a301d0796a",
   "metadata": {},
   "source": [
    "##### ***Reason for choosing Sequence Model like LSTN***\n",
    "1. It Can handle sequential data effectively. (movie review is a sequential data)\n",
    "2. Capture long-term dependencies within sentences.()\n",
    "3. Learn complex relationships between words, leading to a more accurate understanding of sentiment."
   ]
  },
  {
   "cell_type": "code",
   "execution_count": 31,
   "id": "8022f920-e103-466a-b2fd-0fe93e6db435",
   "metadata": {},
   "outputs": [],
   "source": [
    "class sentimentLSTM(nn.Module):\n",
    "    \"\"\"\n",
    "    The RNN model that will be used to perform Sentiment analysis.\n",
    "    \"\"\"\n",
    "    \n",
    "    def __init__(self, vocab_size, output_size, embedding_dim, hidden_dim, n_layers, drop_prob=0.5):\n",
    "        \"\"\"\n",
    "        Initialize the model by setting up the layers.\n",
    "        \"\"\"\n",
    "        super().__init__()\n",
    "        \n",
    "        self.output_size = output_size\n",
    "        self.hidden_dim = hidden_dim\n",
    "        self.n_layers = n_layers\n",
    "        \n",
    "        # Embedding and LSTM layers\n",
    "        self.embedding = nn.Embedding(vocab_size, embedding_dim)\n",
    "        self.lstm = nn.LSTM(embedding_dim, hidden_dim, n_layers, dropout=drop_prob, batch_first=True)\n",
    "        \n",
    "        # Dropout layer\n",
    "        self.dropout = nn.Dropout(0.3)\n",
    "        \n",
    "        # Linear and sigmoid layers\n",
    "        self.fc = nn.Linear(hidden_dim, output_size)\n",
    "        self.sigmoid = nn.Sigmoid()\n",
    "        \n",
    "    def forward(self, x, hidden):\n",
    "        \"\"\"\n",
    "        Perform a forward pass of our model on some input and hidden state.\n",
    "        \"\"\"\n",
    "        batch_size = x.size(0)\n",
    "        \n",
    "        #embedding and lstm_out\n",
    "        embeds = self.embedding(x)\n",
    "        lstm_out, hidden = self.lstm(embeds, hidden)\n",
    "        \n",
    "        #stack up lstm outputs\n",
    "        lstm_out = lstm_out.contiguous().view(-1, self.hidden_dim)\n",
    "        \n",
    "        # Dropout and fully connected layer\n",
    "        out = self.dropout(lstm_out)\n",
    "        out = self.fc(out)\n",
    "        \n",
    "        #sigmoid function\n",
    "        sig_out = self.sigmoid(out)\n",
    "        \n",
    "        # reshape to be batch size first\n",
    "        sig_out = sig_out.view(batch_size, -1)\n",
    "        sig_out = sig_out[:, -1] # get last batch of labels\n",
    "        \n",
    "        return sig_out, hidden\n",
    "    \n",
    "    def init_hidden(self, batch_size):\n",
    "        ''' Initializes hidden state '''\n",
    "        # Create two new tensors with sizes n_layers x batch_size x hidden_dim,\n",
    "        # initialized to zero, for hidden state and cell state of LSTM\n",
    "        h0 = torch.zeros((self.n_layers,batch_size,self.hidden_dim)).to(device)\n",
    "        c0 = torch.zeros((self.n_layers,batch_size,self.hidden_dim)).to(device)\n",
    "        hidden = (h0,c0)\n",
    "        return hidden"
   ]
  },
  {
   "cell_type": "code",
   "execution_count": 32,
   "id": "40f29523-dade-426a-a3ec-aee3f23266ed",
   "metadata": {},
   "outputs": [
    {
     "name": "stdout",
     "output_type": "stream",
     "text": [
      "sentimentLSTM(\n",
      "  (embedding): Embedding(181096, 64)\n",
      "  (lstm): LSTM(64, 256, num_layers=2, batch_first=True, dropout=0.5)\n",
      "  (dropout): Dropout(p=0.3, inplace=False)\n",
      "  (fc): Linear(in_features=256, out_features=1, bias=True)\n",
      "  (sigmoid): Sigmoid()\n",
      ")\n"
     ]
    }
   ],
   "source": [
    "is_cuda = torch.cuda.is_available()\n",
    "\n",
    "# If we have a GPU available, we'll set our device to GPU. We'll use this device variable later in our code. - \n",
    "# if is_cuda:\n",
    "#     device = torch.device(\"cuda\")\n",
    "#     print(\"GPU is available\")\n",
    "# else:\n",
    "#     device = torch.device(\"cpu\")\n",
    "#     print(\"GPU not available, CPU used\")\n",
    "device = torch.device(\"cpu\") # I had some issues with my gpu so I will be using cpu\n",
    "# Instantiate the model w/ hyperparams\n",
    "vocab_size = len(vocab_to_int) + 1\n",
    "output_size = 1\n",
    "embedding_dim = 64\n",
    "hidden_dim = 256\n",
    "n_layers = 2\n",
    "\n",
    "model = sentimentLSTM(vocab_size, output_size, embedding_dim, hidden_dim, n_layers)\n",
    "model = model.to(device)\n",
    "\n",
    "print(model)"
   ]
  },
  {
   "cell_type": "code",
   "execution_count": 33,
   "id": "588cd993-2baf-4da8-89a5-c1ade27b5af0",
   "metadata": {},
   "outputs": [
    {
     "name": "stdout",
     "output_type": "stream",
     "text": [
      "Epoch 1\n",
      "train_loss : 0.6892895873387654 val_loss : 0.6783326616883278\n",
      "train_accuracy : 52.54666666666667 val_accuracy : 56.76\n",
      "Validation loss decreased (inf --> 0.678333).  Saving model ...\n",
      "==================================================\n",
      "Epoch 2\n",
      "train_loss : 0.5850283624728521 val_loss : 0.4631504160165787\n",
      "train_accuracy : 69.58 val_accuracy : 77.47\n",
      "Validation loss decreased (0.678333 --> 0.463150).  Saving model ...\n",
      "==================================================\n"
     ]
    }
   ],
   "source": [
    "lr=0.001\n",
    "\n",
    "criterion = nn.BCELoss()\n",
    "\n",
    "optimizer = torch.optim.Adam(model.parameters(), lr=lr)\n",
    "\n",
    "# function to predict accuracy\n",
    "def acc(pred,label):\n",
    "    pred = torch.round(pred.squeeze())\n",
    "    return torch.sum(pred == label.squeeze()).item()\n",
    "\n",
    "clip = 5\n",
    "epochs = 2\n",
    "valid_loss_min = np.Inf\n",
    "# train for some number of epochs\n",
    "epoch_tr_loss,epoch_vl_loss = [],[]\n",
    "epoch_tr_acc,epoch_vl_acc = [],[]\n",
    "\n",
    "for epoch in range(epochs):\n",
    "    train_losses = []\n",
    "    train_acc = 0.0\n",
    "    model.train()\n",
    "    # initialize hidden state \n",
    "    h = model.init_hidden(batch_size)\n",
    "    for inputs, labels in train_loader:\n",
    "        \n",
    "        inputs, labels = inputs.to(device), labels.to(device)   \n",
    "        # Creating new variables for the hidden state, otherwise\n",
    "        # we'd backprop through the entire training history\n",
    "        h = tuple([each.data for each in h])\n",
    "        \n",
    "        model.zero_grad()\n",
    "        output,h = model(inputs,h)\n",
    "        \n",
    "        # calculate the loss and perform backprop\n",
    "        loss = criterion(output.squeeze(), labels.float())\n",
    "        loss.backward()\n",
    "        train_losses.append(loss.item())\n",
    "        # calculating accuracy\n",
    "        accuracy = acc(output,labels)\n",
    "        train_acc += accuracy\n",
    "        #`clip_grad_norm` helps prevent the exploding gradient problem in RNNs / LSTMs.\n",
    "        nn.utils.clip_grad_norm_(model.parameters(), clip)\n",
    "        optimizer.step()\n",
    " \n",
    "    \n",
    "        \n",
    "    val_h = model.init_hidden(batch_size)\n",
    "    val_losses = []\n",
    "    val_acc = 0.0\n",
    "    model.eval()\n",
    "    for inputs, labels in valid_loader:\n",
    "        val_h = tuple([each.data for each in val_h])\n",
    "\n",
    "        inputs, labels = inputs.to(device), labels.to(device)\n",
    "\n",
    "        output, val_h = model(inputs, val_h)\n",
    "        val_loss = criterion(output.squeeze(), labels.float())\n",
    "\n",
    "        val_losses.append(val_loss.item())\n",
    "            \n",
    "        accuracy = acc(output,labels)\n",
    "        val_acc += accuracy\n",
    "            \n",
    "    epoch_train_loss = np.mean(train_losses)\n",
    "    epoch_val_loss = np.mean(val_losses)\n",
    "    epoch_train_acc = train_acc/len(train_loader.dataset)\n",
    "    epoch_val_acc = val_acc/len(valid_loader.dataset)\n",
    "    epoch_tr_loss.append(epoch_train_loss)\n",
    "    epoch_vl_loss.append(epoch_val_loss)\n",
    "    epoch_tr_acc.append(epoch_train_acc)\n",
    "    epoch_vl_acc.append(epoch_val_acc)\n",
    "    print(f'Epoch {epoch+1}') \n",
    "    print(f'train_loss : {epoch_train_loss} val_loss : {epoch_val_loss}')\n",
    "    print(f'train_accuracy : {epoch_train_acc*100} val_accuracy : {epoch_val_acc*100}')\n",
    "    if epoch_val_loss <= valid_loss_min:\n",
    "        torch.save(model.state_dict(), 'state_dict.pt')\n",
    "        print('Validation loss decreased ({:.6f} --> {:.6f}).  Saving model ...'.format(valid_loss_min,epoch_val_loss))\n",
    "        valid_loss_min = epoch_val_loss\n",
    "    print(25*'==')"
   ]
  },
  {
   "cell_type": "markdown",
   "id": "9628a0d1-6d3a-424e-8318-dd26662e9da6",
   "metadata": {},
   "source": [
    "***Inference***:\n",
    "1. **Training is progressing**: The training loss is decreasing across epochs, indicating that the model is learning.\n",
    "2. **Validation loss is a good indicator**: The validation loss also decreases, suggesting that the model is generalizing well and not just overfitting to the training data.\n",
    "3. **Accuracy is improving**: Both training and validation accuracy are increasing, further supporting the model's progress."
   ]
  },
  {
   "cell_type": "markdown",
   "id": "244415d1-595b-4217-a164-171a15fea991",
   "metadata": {},
   "source": [
    "## Conclusion\n",
    "    1. Logistic Regression and SGD classifier works well in traditional statiscal model without semantic information.\n",
    "    2. LSTM model works generalise well by learning semantic information than traditional statiscal model but it's computational Intensive to train the model. \n",
    "\n",
    "##### Improvement:\n",
    "We can use in multiple ways :\n",
    "          1. Increasing the Epochs and adjusting some of the Hyperparameters like Regularization if model faces overfitting of the above LSTM.\n",
    "          2. In my LSTM model, embeddings are learned during model training so If we use pre-trained embedding, model performance may be improved or try different Embedding Dimensionality.(128, 256, 512)\n",
    "          3. Adavnce architecture like BERT , Roberta can be used to improve the performance on this challenge.\n",
    "\n",
    "\n"
   ]
  },
  {
   "cell_type": "code",
   "execution_count": null,
   "id": "2e4714ee-36a8-4884-8b82-540e45efe555",
   "metadata": {},
   "outputs": [],
   "source": []
  }
 ],
 "metadata": {
  "kernelspec": {
   "display_name": "Python 3 (ipykernel)",
   "language": "python",
   "name": "python3"
  },
  "language_info": {
   "codemirror_mode": {
    "name": "ipython",
    "version": 3
   },
   "file_extension": ".py",
   "mimetype": "text/x-python",
   "name": "python",
   "nbconvert_exporter": "python",
   "pygments_lexer": "ipython3",
   "version": "3.10.12"
  }
 },
 "nbformat": 4,
 "nbformat_minor": 5
}
